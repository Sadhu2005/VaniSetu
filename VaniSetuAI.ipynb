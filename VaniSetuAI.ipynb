{
  "nbformat": 4,
  "nbformat_minor": 0,
  "metadata": {
    "colab": {
      "provenance": [],
      "gpuType": "T4",
      "authorship_tag": "ABX9TyNLvODelSNHxhKY7TeRs2KM",
      "include_colab_link": true
    },
    "kernelspec": {
      "name": "python3",
      "display_name": "Python 3"
    },
    "language_info": {
      "name": "python"
    },
    "accelerator": "GPU"
  },
  "cells": [
    {
      "cell_type": "markdown",
      "metadata": {
        "id": "view-in-github",
        "colab_type": "text"
      },
      "source": [
        "<a href=\"https://colab.research.google.com/github/Sadhu2005/VaniSetu/blob/develop/VaniSetuAI.ipynb\" target=\"_parent\"><img src=\"https://colab.research.google.com/assets/colab-badge.svg\" alt=\"Open In Colab\"/></a>"
      ]
    },
    {
      "cell_type": "code",
      "execution_count": 1,
      "metadata": {
        "colab": {
          "base_uri": "https://localhost:8080/"
        },
        "id": "fIY-x_nCRumS",
        "outputId": "e78d7340-6c9e-43ff-df08-5438eae87e00"
      },
      "outputs": [
        {
          "output_type": "stream",
          "name": "stdout",
          "text": [
            "Cloning into 'VaniSetu'...\n",
            "remote: Enumerating objects: 38, done.\u001b[K\n",
            "remote: Counting objects: 100% (38/38), done.\u001b[K\n",
            "remote: Compressing objects: 100% (25/25), done.\u001b[K\n",
            "remote: Total 38 (delta 10), reused 27 (delta 4), pack-reused 0 (from 0)\u001b[K\n",
            "Receiving objects: 100% (38/38), 20.25 KiB | 20.25 MiB/s, done.\n",
            "Resolving deltas: 100% (10/10), done.\n"
          ]
        }
      ],
      "source": [
        "# In a Colab cell\n",
        "!git clone https://github.com/Sadhu2005/VaniSetu.git"
      ]
    },
    {
      "cell_type": "code",
      "source": [
        "# In a Colab cell\n",
        "%cd VaniSetu\n",
        ""
      ],
      "metadata": {
        "colab": {
          "base_uri": "https://localhost:8080/"
        },
        "id": "uyytuFRSSDQZ",
        "outputId": "7ffc8cb1-486a-4468-dc08-c6bccc2f26c1"
      },
      "execution_count": 2,
      "outputs": [
        {
          "output_type": "stream",
          "name": "stdout",
          "text": [
            "/content/VaniSetu\n"
          ]
        }
      ]
    },
    {
      "cell_type": "code",
      "source": [
        "print(\"--> Step 1: Installing Google's Generative AI library...\")\n",
        "!pip install -q -U google-generativeai\n",
        "print(\"--> Installation complete.\")\n",
        "print(\"-\" * 30)"
      ],
      "metadata": {
        "colab": {
          "base_uri": "https://localhost:8080/"
        },
        "id": "trI1n3Gc0ViG",
        "outputId": "81c08b1f-e65c-4c15-f8cb-57e80af826e6"
      },
      "execution_count": 11,
      "outputs": [
        {
          "output_type": "stream",
          "name": "stdout",
          "text": [
            "--> Step 1: Installing Google's Generative AI library...\n",
            "--> Installation complete.\n",
            "------------------------------\n"
          ]
        }
      ]
    },
    {
      "cell_type": "code",
      "source": [
        "import google.generativeai as genai\n",
        "from google.colab import userdata\n",
        "\n",
        "# IMPORTANT: To keep your key secret, click the \"Key\" icon (🔑) on the left\n",
        "# side of Colab, add a new secret named \"GOOGLE_API_KEY\", and paste your key there.\n",
        "try:\n",
        "    api_key = userdata.get('GOOGLE_API_KEY')\n",
        "    genai.configure(api_key=api_key)\n",
        "    print(\"--> Step 2: API Key configured successfully.\")\n",
        "except userdata.SecretNotFoundError as e:\n",
        "    print(\"--> SECRET NOT FOUND: Please add your GOOGLE_API_KEY to Colab Secrets (🔑).\")\n",
        "print(\"-\" * 30)"
      ],
      "metadata": {
        "colab": {
          "base_uri": "https://localhost:8080/"
        },
        "id": "eIGWrIr_2xSk",
        "outputId": "acae1b2b-11c7-4182-8818-62e4dd473f6a"
      },
      "execution_count": 15,
      "outputs": [
        {
          "output_type": "stream",
          "name": "stdout",
          "text": [
            "--> Step 2: API Key configured successfully.\n",
            "------------------------------\n"
          ]
        }
      ]
    },
    {
      "cell_type": "code",
      "source": [
        "model = genai.GenerativeModel('gemini-1.5-flash')\n",
        "\n",
        "# The English text from our Whisper test\n",
        "english_text = \"Hello, this is a test of the VaniSetu project. We are checking if the Whisper model can transcribe this audio correctly.\"\n",
        "\n",
        "# This is our specific instruction to the model\n",
        "prompt = f\"\"\"\n",
        "Translate the following English text into conversational Hinglish for a video dubbing project.\n",
        "It is very important that you DO NOT translate the following types of words:\n",
        "- Proper nouns (like 'VaniSetu', 'Whisper')\n",
        "- Common technical and English words (like 'project', 'model', 'transcribe', 'audio')\n",
        "\n",
        "Keep them in their original English form.\n",
        "\n",
        "English Text: \"{english_text}\"\n",
        "Hinglish Translation:\n",
        "\"\"\"\n",
        "\n",
        "print(\"--> Step 3: Sending prompt to the Gemini model...\")\n",
        "response = model.generate_content(prompt)\n",
        "hinglish_text = response.text\n",
        "print(\"--> Translation complete.\")\n",
        "print(\"-\" * 30)"
      ],
      "metadata": {
        "colab": {
          "base_uri": "https://localhost:8080/",
          "height": 69
        },
        "id": "TJs-wIlr5UiP",
        "outputId": "5fe297d8-fa71-48a9-a858-6f1ee97ffb8d"
      },
      "execution_count": 16,
      "outputs": [
        {
          "output_type": "stream",
          "name": "stdout",
          "text": [
            "--> Step 3: Sending prompt to the Gemini model...\n",
            "--> Translation complete.\n",
            "------------------------------\n"
          ]
        }
      ]
    },
    {
      "cell_type": "code",
      "source": [
        "print(\"✅ Smart Translation Complete! Here are the results:\\n\")\n",
        "print(f\"English Input   : {english_text}\")\n",
        "print(f\"Hinglish Output : {hinglish_text}\")"
      ],
      "metadata": {
        "colab": {
          "base_uri": "https://localhost:8080/"
        },
        "id": "JnkW7A3_5ctk",
        "outputId": "5b777ef1-c65b-4e34-ad09-666d0415bcf6"
      },
      "execution_count": 17,
      "outputs": [
        {
          "output_type": "stream",
          "name": "stdout",
          "text": [
            "✅ Smart Translation Complete! Here are the results:\n",
            "\n",
            "English Input   : Hello, this is a test of the VaniSetu project. We are checking if the Whisper model can transcribe this audio correctly.\n",
            "Hinglish Output : Hello, yeh VaniSetu project ka ek test hai.  Hum check kar rahe hain ki Whisper model yeh audio sahi se transcribe kar pata hai ki nahin.\n",
            "\n"
          ]
        }
      ]
    },
    {
      "cell_type": "code",
      "source": [
        "print(\"--> Step 1: Installing gTTS...\")\n",
        "!pip install -q gTTS\n",
        "print(\"--> Installation complete.\")\n",
        "print(\"-\" * 30)"
      ],
      "metadata": {
        "colab": {
          "base_uri": "https://localhost:8080/"
        },
        "id": "1D-X4E875fzh",
        "outputId": "fba58bf5-27d1-4219-9372-f262725097de"
      },
      "execution_count": 28,
      "outputs": [
        {
          "output_type": "stream",
          "name": "stdout",
          "text": [
            "--> Step 1: Installing gTTS...\n",
            "--> Installation complete.\n",
            "------------------------------\n"
          ]
        }
      ]
    },
    {
      "cell_type": "code",
      "source": [
        "from gtts import gTTS\n",
        "import IPython.display as ipd\n",
        "\n",
        "# The Hinglish text from our last step\n",
        "hinglish_text = \"Hello, yeh VaniSetu project ka ek test hai. Hum check kar rahe hain ki Whisper model yeh audio sahi se transcribe kar pata hai ki nahin.\"\n",
        "output_audio_path = \"final_dubbed_gtts.mp3\"\n",
        "\n",
        "print(\"--> Step 2: Generating audio using gTTS...\")\n",
        "# We set the language to Hindi ('hi'). gTTS is good at pronouncing\n",
        "# English words (like 'Hello', 'project') with an Indian accent.\n",
        "tts = gTTS(text=hinglish_text, lang='hi', slow=False)\n",
        "tts.save(output_audio_path)\n",
        "print(\"--> Audio generation complete.\")\n",
        "print(\"-\" * 30)"
      ],
      "metadata": {
        "colab": {
          "base_uri": "https://localhost:8080/"
        },
        "id": "Nps1KZ247-d5",
        "outputId": "42d093e0-5338-4b36-ba1d-3a707c97f68f"
      },
      "execution_count": 29,
      "outputs": [
        {
          "output_type": "stream",
          "name": "stdout",
          "text": [
            "--> Step 2: Generating audio using gTTS...\n",
            "--> Audio generation complete.\n",
            "------------------------------\n"
          ]
        }
      ]
    },
    {
      "cell_type": "code",
      "source": [
        "print(\"✅ gTTS Test Complete! Listen to the final result below:\")\n",
        "ipd.Audio(output_audio_path)"
      ],
      "metadata": {
        "colab": {
          "base_uri": "https://localhost:8080/",
          "height": 93
        },
        "id": "RdCb6GoO5_yM",
        "outputId": "33ec7d84-59ce-4515-973d-e7c34e4260cd"
      },
      "execution_count": 31,
      "outputs": [
        {
          "output_type": "stream",
          "name": "stdout",
          "text": [
            "✅ gTTS Test Complete! Listen to the final result below:\n"
          ]
        },
        {
          "output_type": "execute_result",
          "data": {
            "text/plain": [
              "<IPython.lib.display.Audio object>"
            ],
            "text/html": [
              "\n",
              "                <audio  controls=\"controls\" >\n",
              "                    <source src=\"data:audio/mpeg;base64,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\" type=\"audio/mpeg\" />\n",
              "                    Your browser does not support the audio element.\n",
              "                </audio>\n",
              "              "
            ]
          },
          "metadata": {},
          "execution_count": 31
        }
      ]
    },
    {
      "cell_type": "code",
      "source": [
        "print(\"--> Installing all libraries...\")\n",
        "# We add nest_asyncio to fix the event loop conflict\n",
        "!pip install -q fastapi uvicorn pyngrok google-generativeai openai-whisper gTTS nest_asyncio\n",
        "print(\"--> Installation complete.\")"
      ],
      "metadata": {
        "colab": {
          "base_uri": "https://localhost:8080/"
        },
        "id": "9gMMoTrg7SQP",
        "outputId": "86004864-40cf-4e9c-ea88-45c0f7253952"
      },
      "execution_count": 36,
      "outputs": [
        {
          "output_type": "stream",
          "name": "stdout",
          "text": [
            "--> Installing all libraries...\n",
            "--> Installation complete.\n"
          ]
        }
      ]
    },
    {
      "cell_type": "code",
      "source": [
        "import nest_asyncio\n",
        "import os\n",
        "import whisper\n",
        "import google.generativeai as genai\n",
        "from gtts import gTTS\n",
        "from fastapi import FastAPI, File, UploadFile\n",
        "from fastapi.responses import FileResponse\n",
        "from google.colab import userdata\n",
        "\n",
        "# This is the crucial fix\n",
        "nest_asyncio.apply()\n",
        "\n",
        "# --- App Initialization ---\n",
        "app = FastAPI(title=\"VaniSetu API\")\n",
        "\n",
        "# --- AI Model & Client Initialization ---\n",
        "print(\"--> Loading AI models...\")\n",
        "# 1. Load Whisper Model\n",
        "whisper_model = whisper.load_model(\"base\")\n",
        "\n",
        "# 2. Configure Gemini Model\n",
        "try:\n",
        "    api_key = userdata.get('GOOGLE_API_KEY')\n",
        "    genai.configure(api_key=api_key)\n",
        "    gemini_model = genai.GenerativeModel('gemini-1.5-flash')\n",
        "    print(\"--> AI Models loaded successfully.\")\n",
        "except Exception as e:\n",
        "    print(f\"Error loading models: {e}\")\n",
        "    gemini_model = None\n",
        "\n",
        "# --- API Endpoints ---\n",
        "@app.get(\"/\")\n",
        "def read_root():\n",
        "    return {\"status\": \"ok\", \"message\": \"VaniSetu API is running!\"}\n",
        "\n",
        "@app.post(\"/api/v1/dub-audio\")\n",
        "async def dub_audio_pipeline(audio: UploadFile = File(...)):\n",
        "    temp_audio_path = f\"temp_{audio.filename}\"\n",
        "    with open(temp_audio_path, \"wb\") as buffer:\n",
        "        buffer.write(await audio.read())\n",
        "\n",
        "    transcription_result = whisper_model.transcribe(temp_audio_path, fp16=False)\n",
        "    english_text = transcription_result[\"text\"]\n",
        "\n",
        "    if not gemini_model: return {\"error\": \"Gemini model not configured\"}\n",
        "\n",
        "    prompt = f\"Translate the following English text into conversational Hinglish for a video dubbing project. Keep proper nouns and technical words like 'project' or 'model' in English. Text: \\\"{english_text}\\\"\"\n",
        "    response = gemini_model.generate_content(prompt)\n",
        "    hinglish_text = response.text.strip()\n",
        "\n",
        "    output_audio_path = f\"dubbed_{audio.filename}.mp3\"\n",
        "    tts = gTTS(text=hinglish_text, lang='hi', slow=False)\n",
        "    tts.save(output_audio_path)\n",
        "\n",
        "    os.remove(temp_audio_path)\n",
        "    return FileResponse(path=output_audio_path, media_type=\"audio/mpeg\", filename=output_audio_path)\n"
      ],
      "metadata": {
        "colab": {
          "base_uri": "https://localhost:8080/"
        },
        "id": "K7zcOizRFFMd",
        "outputId": "b6ee25e6-d71a-4c09-d8e5-39735fcae98f"
      },
      "execution_count": 37,
      "outputs": [
        {
          "output_type": "stream",
          "name": "stdout",
          "text": [
            "--> Loading AI models...\n",
            "--> AI Models loaded successfully.\n"
          ]
        }
      ]
    },
    {
      "cell_type": "code",
      "source": [
        "print(\"--> Installing all libraries...\")\n",
        "!pip install -q fastapi uvicorn pyngrok google-generativeai openai-whisper gTTS nest_asyncio\n",
        "print(\"--> Installation complete.\")"
      ],
      "metadata": {
        "colab": {
          "base_uri": "https://localhost:8080/"
        },
        "id": "aVuvWnI_FP7D",
        "outputId": "df466a1d-5421-47de-cdff-96083246b165"
      },
      "execution_count": 39,
      "outputs": [
        {
          "output_type": "stream",
          "name": "stdout",
          "text": [
            "--> Installing all libraries...\n"
          ]
        },
        {
          "output_type": "stream",
          "name": "stderr",
          "text": [
            "ERROR:asyncio:Task exception was never retrieved\n",
            "future: <Task finished name='Task-1' coro=<Server.serve() done, defined at /usr/local/lib/python3.12/dist-packages/uvicorn/server.py:69> exception=KeyboardInterrupt()>\n",
            "Traceback (most recent call last):\n",
            "  File \"/usr/local/lib/python3.12/dist-packages/uvicorn/main.py\", line 580, in run\n",
            "    server.run()\n",
            "  File \"/usr/local/lib/python3.12/dist-packages/uvicorn/server.py\", line 67, in run\n",
            "    return asyncio.run(self.serve(sockets=sockets))\n",
            "           ^^^^^^^^^^^^^^^^^^^^^^^^^^^^^^^^^^^^^^^^\n",
            "  File \"/usr/local/lib/python3.12/dist-packages/nest_asyncio.py\", line 30, in run\n",
            "    return loop.run_until_complete(task)\n",
            "           ^^^^^^^^^^^^^^^^^^^^^^^^^^^^^\n",
            "  File \"/usr/local/lib/python3.12/dist-packages/nest_asyncio.py\", line 92, in run_until_complete\n",
            "    self._run_once()\n",
            "  File \"/usr/local/lib/python3.12/dist-packages/nest_asyncio.py\", line 133, in _run_once\n",
            "    handle._run()\n",
            "  File \"/usr/lib/python3.12/asyncio/events.py\", line 88, in _run\n",
            "    self._context.run(self._callback, *self._args)\n",
            "  File \"/usr/lib/python3.12/asyncio/tasks.py\", line 396, in __wakeup\n",
            "    self.__step()\n",
            "  File \"/usr/lib/python3.12/asyncio/tasks.py\", line 303, in __step\n",
            "    self.__step_run_and_handle_result(exc)\n",
            "  File \"/usr/lib/python3.12/asyncio/tasks.py\", line 314, in __step_run_and_handle_result\n",
            "    result = coro.send(None)\n",
            "             ^^^^^^^^^^^^^^^\n",
            "  File \"/usr/local/lib/python3.12/dist-packages/uvicorn/server.py\", line 70, in serve\n",
            "    with self.capture_signals():\n",
            "         ^^^^^^^^^^^^^^^^^^^^^^\n",
            "  File \"/usr/lib/python3.12/contextlib.py\", line 144, in __exit__\n",
            "    next(self.gen)\n",
            "  File \"/usr/local/lib/python3.12/dist-packages/uvicorn/server.py\", line 331, in capture_signals\n",
            "    signal.raise_signal(captured_signal)\n",
            "KeyboardInterrupt\n"
          ]
        },
        {
          "output_type": "stream",
          "name": "stdout",
          "text": [
            "--> Installation complete.\n"
          ]
        }
      ]
    },
    {
      "cell_type": "code",
      "source": [
        "import nest_asyncio\n",
        "import os\n",
        "import whisper\n",
        "import google.generativeai as genai\n",
        "from gtts import gTTS\n",
        "from fastapi import FastAPI, File, UploadFile\n",
        "from fastapi.responses import FileResponse\n",
        "from fastapi.middleware.cors import CORSMiddleware # Import the CORS middleware\n",
        "from google.colab import userdata\n",
        "\n",
        "# This is the crucial fix for the asyncio error\n",
        "nest_asyncio.apply()\n",
        "\n",
        "# --- App Initialization ---\n",
        "app = FastAPI(title=\"VaniSetu API\")\n",
        "\n",
        "# --- THIS IS THE NEW CODE TO FIX THE CORS ERROR ---\n",
        "# We add the CORS middleware to allow cross-origin requests\n",
        "app.add_middleware(\n",
        "    CORSMiddleware,\n",
        "    allow_origins=[\"*\"],  # Allows all origins\n",
        "    allow_credentials=True,\n",
        "    allow_methods=[\"*\"],  # Allows all methods\n",
        "    allow_headers=[\"*\"],  # Allows all headers\n",
        ")\n",
        "# --- END OF NEW CODE ---\n",
        "\n",
        "\n",
        "# --- AI Model & Client Initialization ---\n",
        "print(\"--> Loading AI models...\")\n",
        "# (The rest of your code is the same)\n",
        "whisper_model = whisper.load_model(\"base\")\n",
        "\n",
        "try:\n",
        "    api_key = userdata.get('GOOGLE_API_KEY')\n",
        "    genai.configure(api_key=api_key)\n",
        "    gemini_model = genai.GenerativeModel('gemini-1.5-flash')\n",
        "    print(\"--> AI Models loaded successfully.\")\n",
        "except Exception as e:\n",
        "    print(f\"Error loading models: {e}\")\n",
        "    gemini_model = None\n",
        "\n",
        "# --- API Endpoints ---\n",
        "@app.get(\"/\")\n",
        "def read_root():\n",
        "    return {\"status\": \"ok\", \"message\": \"VaniSetu API is running!\"}\n",
        "\n",
        "@app.post(\"/api/v1/dub-audio\")\n",
        "async def dub_audio_pipeline(audio: UploadFile = File(...)):\n",
        "    temp_audio_path = f\"temp_{audio.filename}\"\n",
        "    with open(temp_audio_path, \"wb\") as buffer:\n",
        "        buffer.write(await audio.read())\n",
        "\n",
        "    transcription_result = whisper_model.transcribe(temp_audio_path, fp16=False)\n",
        "    english_text = transcription_result[\"text\"]\n",
        "\n",
        "    if not gemini_model: return {\"error\": \"Gemini model not configured\"}\n",
        "\n",
        "    prompt = f\"Translate the following English text into conversational Hinglish for a video dubbing project. Keep proper nouns and technical words like 'project' or 'model' in English. Text: \\\"{english_text}\\\"\"\n",
        "    response = gemini_model.generate_content(prompt)\n",
        "    hinglish_text = response.text.strip()\n",
        "\n",
        "    output_audio_path = f\"dubbed_{audio.filename}.mp3\"\n",
        "    tts = gTTS(text=hinglish_text, lang='hi', slow=False)\n",
        "    tts.save(output_audio_path)\n",
        "\n",
        "    os.remove(temp_audio_path)\n",
        "    return FileResponse(path=output_audio_path, media_type=\"audio/mpeg\", filename=output_audio_path)\n"
      ],
      "metadata": {
        "colab": {
          "base_uri": "https://localhost:8080/"
        },
        "id": "01X-8MqlKpqr",
        "outputId": "923d00ff-699e-4f14-e5f7-6affcf71ce40"
      },
      "execution_count": 40,
      "outputs": [
        {
          "output_type": "stream",
          "name": "stdout",
          "text": [
            "--> Loading AI models...\n",
            "--> AI Models loaded successfully.\n"
          ]
        }
      ]
    },
    {
      "cell_type": "code",
      "source": [
        "import uvicorn\n",
        "from pyngrok import ngrok\n",
        "\n",
        "print(\"--> Launching server with ngrok...\")\n",
        "try:\n",
        "    ngrok.set_auth_token(userdata.get('NGROK_AUTHTOKEN'))\n",
        "    public_url = ngrok.connect(8000)\n",
        "    print(f\"✅ Your VaniSetu API is live at: {public_url}\")\n",
        "    uvicorn.run(app, port=8000)\n",
        "except Exception as e:\n",
        "    print(f\"Error launching server: {e}. Did you add your NGROK_AUTHTOKEN to Colab Secrets?\")"
      ],
      "metadata": {
        "colab": {
          "base_uri": "https://localhost:8080/",
          "height": 505
        },
        "id": "41rzWv_IKzvu",
        "outputId": "279507ed-c6c4-486c-8421-4f710e19ea59"
      },
      "execution_count": 41,
      "outputs": [
        {
          "output_type": "stream",
          "name": "stdout",
          "text": [
            "--> Launching server with ngrok...\n",
            "✅ Your VaniSetu API is live at: NgrokTunnel: \"https://b856a0eec2a2.ngrok-free.app\" -> \"http://localhost:8000\"\n"
          ]
        },
        {
          "output_type": "stream",
          "name": "stderr",
          "text": [
            "INFO:     Started server process [544]\n",
            "INFO:     Waiting for application startup.\n",
            "INFO:     Application startup complete.\n",
            "INFO:     Uvicorn running on http://127.0.0.1:8000 (Press CTRL+C to quit)\n",
            "WARNING:pyngrok.process.ngrok:t=2025-08-21T05:48:07+0000 lvl=warn msg=\"failed to check for update\" obj=updater err=\"Post \\\"https://update.equinox.io/check\\\": context deadline exceeded\"\n"
          ]
        },
        {
          "output_type": "stream",
          "name": "stdout",
          "text": [
            "INFO:     14.194.76.34:0 - \"OPTIONS / HTTP/1.1\" 200 OK\n",
            "INFO:     14.194.76.34:0 - \"GET / HTTP/1.1\" 200 OK\n",
            "INFO:     14.194.76.34:0 - \"OPTIONS /api/v1/dub-audio HTTP/1.1\" 200 OK\n",
            "INFO:     14.194.76.34:0 - \"POST /api/v1/dub-audio HTTP/1.1\" 200 OK\n",
            "INFO:     14.194.76.34:0 - \"OPTIONS /api/v1/dub-audio HTTP/1.1\" 200 OK\n",
            "INFO:     14.194.76.34:0 - \"POST /api/v1/dub-audio HTTP/1.1\" 200 OK\n",
            "INFO:     14.194.76.34:0 - \"OPTIONS //api/v1/dub-audio HTTP/1.1\" 200 OK\n",
            "INFO:     14.194.76.34:0 - \"POST //api/v1/dub-audio HTTP/1.1\" 404 Not Found\n",
            "INFO:     14.194.76.34:0 - \"POST //api/v1/dub-audio HTTP/1.1\" 404 Not Found\n",
            "INFO:     14.194.76.34:0 - \"POST //api/v1/dub-audio HTTP/1.1\" 404 Not Found\n",
            "INFO:     14.194.76.34:0 - \"POST //api/v1/dub-audio HTTP/1.1\" 404 Not Found\n",
            "INFO:     14.194.76.34:0 - \"OPTIONS /api/v1/dub-audio HTTP/1.1\" 200 OK\n",
            "INFO:     14.194.76.34:0 - \"POST /api/v1/dub-audio HTTP/1.1\" 200 OK\n",
            "INFO:     14.194.76.34:0 - \"POST /api/v1/dub-audio HTTP/1.1\" 200 OK\n",
            "INFO:     14.194.76.34:0 - \"POST /api/v1/dub-audio HTTP/1.1\" 200 OK\n",
            "INFO:     14.194.76.34:0 - \"POST /api/v1/dub-audio HTTP/1.1\" 200 OK\n"
          ]
        },
        {
          "output_type": "stream",
          "name": "stderr",
          "text": [
            "INFO:     Shutting down\n",
            "INFO:     Waiting for application shutdown.\n",
            "INFO:     Application shutdown complete.\n",
            "INFO:     Finished server process [544]\n"
          ]
        }
      ]
    },
    {
      "cell_type": "code",
      "source": [
        "%ls\n"
      ],
      "metadata": {
        "colab": {
          "base_uri": "https://localhost:8080/"
        },
        "id": "gYxge9yZaWGH",
        "outputId": "f3d63a79-1267-476b-9715-162159a26d1a"
      },
      "execution_count": 43,
      "outputs": [
        {
          "output_type": "stream",
          "name": "stdout",
          "text": [
            "\u001b[0m\u001b[01;34mbackend\u001b[0m/                        LICENSE           test_audio.mp3\n",
            "dubbed_captured_audio.webm.mp3  README.md\n",
            "final_dubbed_gtts.mp3           requirements.txt\n"
          ]
        }
      ]
    },
    {
      "cell_type": "code",
      "source": [
        "%cd ..\n"
      ],
      "metadata": {
        "colab": {
          "base_uri": "https://localhost:8080/"
        },
        "id": "2eoi_JePabIu",
        "outputId": "6b6c010b-a5a7-437d-a80f-fdde61d0b1ad"
      },
      "execution_count": 44,
      "outputs": [
        {
          "output_type": "stream",
          "name": "stdout",
          "text": [
            "/content\n"
          ]
        }
      ]
    },
    {
      "cell_type": "code",
      "source": [
        "%ls"
      ],
      "metadata": {
        "colab": {
          "base_uri": "https://localhost:8080/"
        },
        "id": "AxE_mCyjafVm",
        "outputId": "8f858247-9590-403d-e8aa-282aba653117"
      },
      "execution_count": 45,
      "outputs": [
        {
          "output_type": "stream",
          "name": "stdout",
          "text": [
            "\u001b[0m\u001b[01;34msample_data\u001b[0m/  \u001b[01;34mVaniSetu\u001b[0m/\n"
          ]
        }
      ]
    },
    {
      "cell_type": "code",
      "source": [
        "%cd VaniSetu"
      ],
      "metadata": {
        "colab": {
          "base_uri": "https://localhost:8080/"
        },
        "id": "M47SdSbhaivK",
        "outputId": "3f3bf31d-a8d8-4109-f2d2-d205620abb2b"
      },
      "execution_count": 46,
      "outputs": [
        {
          "output_type": "stream",
          "name": "stdout",
          "text": [
            "/content/VaniSetu\n"
          ]
        }
      ]
    },
    {
      "cell_type": "code",
      "source": [
        "!git branch"
      ],
      "metadata": {
        "colab": {
          "base_uri": "https://localhost:8080/"
        },
        "id": "qh9qyI7HaoGi",
        "outputId": "3440a0e2-12e7-49e1-fe27-fafd7327b2cb"
      },
      "execution_count": 48,
      "outputs": [
        {
          "output_type": "stream",
          "name": "stdout",
          "text": [
            "* \u001b[32mmain\u001b[m\n"
          ]
        }
      ]
    },
    {
      "cell_type": "code",
      "source": [
        "!git checkout develop"
      ],
      "metadata": {
        "colab": {
          "base_uri": "https://localhost:8080/"
        },
        "id": "wMzlWgOyattQ",
        "outputId": "5b60a63b-5f3a-4eb4-f390-63b74e162368"
      },
      "execution_count": 53,
      "outputs": [
        {
          "output_type": "stream",
          "name": "stdout",
          "text": [
            "Already on 'develop'\n",
            "Your branch is up to date with 'origin/develop'.\n"
          ]
        }
      ]
    },
    {
      "cell_type": "code",
      "source": [
        "!git add .\n",
        "!git commit -m \"feat: Complete end-to-end AI pipeline prototype in Colab\"\n",
        "!git push"
      ],
      "metadata": {
        "colab": {
          "base_uri": "https://localhost:8080/"
        },
        "id": "y0VP_Uc1bLYa",
        "outputId": "afed8cd1-7a2c-4acd-ea31-fa3216360abf"
      },
      "execution_count": 54,
      "outputs": [
        {
          "output_type": "stream",
          "name": "stdout",
          "text": [
            "Author identity unknown\n",
            "\n",
            "*** Please tell me who you are.\n",
            "\n",
            "Run\n",
            "\n",
            "  git config --global user.email \"you@example.com\"\n",
            "  git config --global user.name \"Your Name\"\n",
            "\n",
            "to set your account's default identity.\n",
            "Omit --global to set the identity only in this repository.\n",
            "\n",
            "fatal: unable to auto-detect email address (got 'root@e122b28a68e9.(none)')\n",
            "fatal: could not read Username for 'https://github.com': No such device or address\n"
          ]
        }
      ]
    },
    {
      "cell_type": "code",
      "source": [
        "!git config --global user.email \"sadhuj2005@gmail.com\""
      ],
      "metadata": {
        "id": "2wfVihevbuFb"
      },
      "execution_count": 56,
      "outputs": []
    },
    {
      "cell_type": "code",
      "source": [
        "!git config --global user.name \"sadhu2005\""
      ],
      "metadata": {
        "id": "Q-MYrFs_b0Mc"
      },
      "execution_count": 57,
      "outputs": []
    },
    {
      "cell_type": "code",
      "source": [
        "!git add .\n",
        "!git commit -m \"feat: Complete end-to-end AI pipeline prototype in Colab\"\n",
        "!git push"
      ],
      "metadata": {
        "colab": {
          "base_uri": "https://localhost:8080/"
        },
        "id": "6C3PDtMgb7go",
        "outputId": "32ef13f3-fe77-41a8-9c95-49103efa7497"
      },
      "execution_count": 58,
      "outputs": [
        {
          "output_type": "stream",
          "name": "stdout",
          "text": [
            "[develop 6f78d8b] feat: Complete end-to-end AI pipeline prototype in Colab\n",
            " 3 files changed, 0 insertions(+), 0 deletions(-)\n",
            " create mode 100644 dubbed_captured_audio.webm.mp3\n",
            " create mode 100644 final_dubbed_gtts.mp3\n",
            " create mode 100644 test_audio.mp3\n",
            "fatal: could not read Username for 'https://github.com': No such device or address\n"
          ]
        }
      ]
    }
  ]
}